{
 "cells": [
  {
   "cell_type": "markdown",
   "metadata": {},
   "source": [
    "First set up environment with convenience imports and inline plotting:\n",
    "<!--- The following cell should be commented out in the python script\n",
    "version of this notebook --->"
   ]
  },
  {
   "cell_type": "code",
   "execution_count": null,
   "metadata": {
    "collapsed": false,
    "magic": true
   },
   "outputs": [],
   "source": [
    "%pylab inline\n",
    "pylab.rc(\"savefig\", dpi=120)  # set resolution of inline figures"
   ]
  },
  {
   "cell_type": "markdown",
   "metadata": {},
   "source": [
    "The `%pylab` magic imports `matplotlib.pyplot` as `plt` and `numpy` as\n",
    "`np`. We'll also, change the working directory to echidna's base\n",
    "directory, so that all the relative imports work.\n",
    "<!--- The following cell should be commented out in the python script\n",
    "version of this notebook --->"
   ]
  },
  {
   "cell_type": "code",
   "execution_count": null,
   "metadata": {
    "collapsed": false,
    "magic": true
   },
   "outputs": [],
   "source": [
    "%cd ../../.."
   ]
  },
  {
   "cell_type": "code",
   "execution_count": null,
   "metadata": {
    "collapsed": false,
    "magic": true
   },
   "outputs": [],
   "source": [
    "%%bash\n",
    "pwd"
   ]
  },
  {
   "cell_type": "markdown",
   "metadata": {},
   "source": [
    "The `%cd` inline-magic emmulates the bash `cd` command, allowing us to\n",
    "change directory and the `%%bash` magic lets you run any bash command in\n",
    "the cell but remaining in the notebook!"
   ]
  },
  {
   "cell_type": "markdown",
   "metadata": {},
   "source": [
    "***"
   ]
  },
  {
   "cell_type": "markdown",
   "metadata": {},
   "source": [
    "<div class=\"alert alert-info\">\n",
    "    <strong>A quick note about the ipython notebook:</strong>\n",
    "    <ul>\n",
    "        <li> To see the keyboard shortcuts at any time simply press the\n",
    "            `Esc` key and then the `H` key </li>\n",
    "        <li> The notebook has two basic modes: **Command** and **Edit**.\n",
    "            Command mode is enabled by the `Esc` key and Edit by the\n",
    "            `Enter` key. </li>\n",
    "        <li> The main comand you will need is `Shift`+`Enter` (make sure\n",
    "            you are in command mode first by pressing `Esc`). This\n",
    "            executes the current cell and then selects the cell below. Try\n",
    "            pressing `Shift`+`Enter` on this cell and then again to run\n",
    "            the cell below. </li>\n",
    "    </ul>\n",
    "</div>"
   ]
  },
  {
   "cell_type": "code",
   "execution_count": null,
   "metadata": {
    "collapsed": false
   },
   "outputs": [],
   "source": [
    "print \"Hello World!\""
   ]
  },
  {
   "cell_type": "markdown",
   "metadata": {},
   "source": [
    "<div class=\"alert alert-info\">\n",
    "    <par>\n",
    "        As you can see, for cells containing valid python, the code\n",
    "        snippet is executed as it would be in a python terminal shell and\n",
    "        the output is displayed below. Try selecting the cell above and\n",
    "        editing it (`Enter` for edit mode) so that it prints out\n",
    "        `Goodbye World!` when executed.\n",
    "    </par>\n",
    "    <par>\n",
    "        These commands should get you through the tutorial, but there are\n",
    "        more in-depth tutorials\n",
    "        <a href=\"https://nbviewer.jupyter.org/github/ipython/ipython/blob/4.0.x/examples/IPython%20Kernel/Index.ipynb\">\n",
    "        here</a> if you are interested - you can even download them and\n",
    "        work through them in the Jupyter viewer.\n",
    "    </par>\n",
    "</div>"
   ]
  },
  {
   "cell_type": "markdown",
   "metadata": {},
   "source": [
    "<!--- Main script starts below ------------------------------------------->"
   ]
  },
  {
   "cell_type": "markdown",
   "metadata": {},
   "source": [
    "# Tutorial 1: Getting started with echidna"
   ]
  },
  {
   "cell_type": "markdown",
   "metadata": {},
   "source": [
    "This guide tutorial aims to get you started with some basic tasks you can\n",
    "accomplish using echidna."
   ]
  },
  {
   "cell_type": "markdown",
   "metadata": {},
   "source": [
    "## Spectra creation"
   ]
  },
  {
   "cell_type": "markdown",
   "metadata": {},
   "source": [
    "The `Spectra` class is echidna's most fundamental class. It holds the core\n",
    "data structure and provides much of the core functionality required.\n",
    "Coincidentally, this guide will be centred around this class, how to\n",
    "create it and then some manipulations of the class."
   ]
  },
  {
   "cell_type": "markdown",
   "metadata": {},
   "source": [
    "We'll begin with how to create an instance of the `Spectra` class. It is\n",
    "part of the `echidna.core.spectra` module, so we will import this and make\n",
    "a `Spectra` instance."
   ]
  },
  {
   "cell_type": "code",
   "execution_count": null,
   "metadata": {
    "collapsed": false
   },
   "outputs": [],
   "source": [
    "import echidna.core.spectra as spectra"
   ]
  },
  {
   "cell_type": "markdown",
   "metadata": {},
   "source": [
    "Now we need a config file to create the spectrum from. There is an example\n",
    "config file in `echidna/config`. If we look at the contents of this yaml\n",
    "file, we see it tells the `Spectra` class to create a data structure to\n",
    "hold two parameters:"
   ]
  },
  {
   "cell_type": "markdown",
   "metadata": {},
   "source": [
    " * `energy_mc`, with lower limit 0, upper limit 10 and 1000 bins\n",
    " * `radial_mc`, with lower limit 0, upper limit 15000 and 1500 bins"
   ]
  },
  {
   "cell_type": "markdown",
   "metadata": {
    "collapsed": true
   },
   "source": [
    "This config should be fine for us. We can load it using the\n",
    "`load_from_file` method of the `SpectraConfig` class:"
   ]
  },
  {
   "cell_type": "code",
   "execution_count": null,
   "metadata": {
    "collapsed": false
   },
   "outputs": [],
   "source": [
    "import echidna\n",
    "from echidna.core.config import SpectraConfig\n",
    "\n",
    "config = SpectraConfig.load_from_file(\n",
    "    echidna.__echidna_base__ + \"/echidna/config/spectra_example.yml\")\n",
    "print config.get_pars()"
   ]
  },
  {
   "cell_type": "markdown",
   "metadata": {},
   "source": [
    "Note we used the `__echidna_base__` member of the `echidna` module here.\n",
    "This module has two special members for denoting the base directory (the\n",
    "outermost directory of the git repository) and the home directory (the\n",
    "`echidna` directory inside the base directory. The following lines show\n",
    "the current location of these directories:"
   ]
  },
  {
   "cell_type": "code",
   "execution_count": null,
   "metadata": {
    "collapsed": false
   },
   "outputs": [],
   "source": [
    "print echidna.__echidna_base__\n",
    "print echidna.__echidna_home__"
   ]
  },
  {
   "cell_type": "markdown",
   "metadata": {},
   "source": [
    "Finally before creating the spectrum, we should define the number of\n",
    "events it should represent:"
   ]
  },
  {
   "cell_type": "code",
   "execution_count": null,
   "metadata": {
    "collapsed": true
   },
   "outputs": [],
   "source": [
    "num_decays = 1000"
   ]
  },
  {
   "cell_type": "code",
   "execution_count": null,
   "metadata": {
    "collapsed": false
   },
   "outputs": [],
   "source": [
    "spectrum = spectra.Spectra(\"spectrum\", num_decays, config)\n",
    "print spectrum"
   ]
  },
  {
   "cell_type": "markdown",
   "metadata": {},
   "source": [
    "And there you have it, we've created a `Spectra` object."
   ]
  },
  {
   "cell_type": "markdown",
   "metadata": {},
   "source": [
    "## Filling the spectrum"
   ]
  },
  {
   "cell_type": "markdown",
   "metadata": {},
   "source": [
    "Ok, so we now have a spectrum, let's fill it with some events. We'll\n",
    "generate random energies from a Gaussian distribution and random positions\n",
    "from a Uniform distribution. Much of echidna is built using the `numpy`\n",
    "and `SciPy` packages and we will use them here to generate the random\n",
    "numbers. We'll also generate a third random number to simulate some form\n",
    "rudimentary detector efficiency."
   ]
  },
  {
   "cell_type": "code",
   "execution_count": null,
   "metadata": {
    "collapsed": true
   },
   "outputs": [],
   "source": [
    "# Import numpy\n",
    "import numpy"
   ]
  },
  {
   "cell_type": "code",
   "execution_count": null,
   "metadata": {
    "collapsed": false
   },
   "outputs": [],
   "source": [
    "# Generate random energies from a Gaussin with mean (mu) and sigma\n",
    "# (sigma)\n",
    "mu = 2.5  # MeV\n",
    "sigma = 0.15  # MeV\n",
    "\n",
    "# Generate random radial position from a Uniform distribution\n",
    "outer_radius = 5997  # Radius of SNO+ AV\n",
    "\n",
    "# Detector efficiency\n",
    "efficiency = 0.9  # 90%\n",
    "\n",
    "for event in range(num_decays):\n",
    "    energy = numpy.random.normal(mu, sigma)\n",
    "    radius = numpy.random.uniform(high=outer_radius)\n",
    "    event_detected = (numpy.random.uniform() < efficiency)\n",
    "    if event_detected:  # Fill spectrum with values\n",
    "        spectrum.fill(energy_mc=energy, radial_mc=radius)"
   ]
  },
  {
   "cell_type": "markdown",
   "metadata": {},
   "source": [
    "This will have filled our `Spectra` class with the events. Make sure to\n",
    "use the exact parameter names that were printed out above, as kewyord\n",
    "arguments. To check we can now use the `sum` method. This returns the\n",
    "total number of events stored in the spectrum at a given time - the\n",
    "integral of the spectrum."
   ]
  },
  {
   "cell_type": "code",
   "execution_count": null,
   "metadata": {
    "collapsed": false
   },
   "outputs": [],
   "source": [
    "print spectrum.sum()"
   ]
  },
  {
   "cell_type": "markdown",
   "metadata": {},
   "source": [
    "The value returned by `sum`, should roughly equal:"
   ]
  },
  {
   "cell_type": "code",
   "execution_count": null,
   "metadata": {
    "collapsed": false
   },
   "outputs": [],
   "source": [
    "print num_decays * efficiency"
   ]
  },
  {
   "cell_type": "markdown",
   "metadata": {},
   "source": [
    "We can also inspect the raw data structure. This is saved in the `_data`\n",
    "member of the `Spectra` class:"
   ]
  },
  {
   "cell_type": "code",
   "execution_count": null,
   "metadata": {
    "collapsed": false
   },
   "outputs": [],
   "source": [
    "print spectrum._data"
   ]
  },
  {
   "cell_type": "markdown",
   "metadata": {},
   "source": [
    "<div class=\"alert alert-info\">\n",
    "    <strong>Note:</strong> you probably won't see any entries in the\n",
    "    above. For large arrays, numpy only prints the first three and last\n",
    "    three entries. Since our energy range is in the middle, all our events\n",
    "    are in the `...` part at the moment. But we will see entries printed\n",
    "    out later when we apply some cuts.\n",
    "</div>"
   ]
  },
  {
   "cell_type": "markdown",
   "metadata": {},
   "source": [
    "## Plotting"
   ]
  },
  {
   "cell_type": "markdown",
   "metadata": {},
   "source": [
    "Another useful way to inspect the `Spectra` created is to plot it. Support\n",
    "is available within echidna to plot using either `ROOT` or `matplotlib`\n",
    "and there are some useful plotting functions available in the `plot` an\n",
    "`plot_root` modules."
   ]
  },
  {
   "cell_type": "code",
   "execution_count": null,
   "metadata": {
    "collapsed": false
   },
   "outputs": [],
   "source": [
    "import echidna.output.plot as plot\n",
    "import echidna.output.plot_root as plot_root"
   ]
  },
  {
   "cell_type": "markdown",
   "metadata": {
    "collapsed": true
   },
   "source": [
    "To plot the projection of the spectrum on the `energy_mc` axis:"
   ]
  },
  {
   "cell_type": "code",
   "execution_count": null,
   "metadata": {
    "collapsed": false
   },
   "outputs": [],
   "source": [
    "fig1 = plot.plot_projection(spectrum, \"energy_mc\",\n",
    "                            fig_num=1, show_plot=False)"
   ]
  },
  {
   "cell_type": "markdown",
   "metadata": {},
   "source": [
    "and to plot the projection on the `radial_mc` axis, this time using root:"
   ]
  },
  {
   "cell_type": "code",
   "execution_count": null,
   "metadata": {
    "collapsed": false
   },
   "outputs": [],
   "source": [
    "plot_root.plot_projection(spectrum, \"radial_mc\", fig_num=2)"
   ]
  },
  {
   "cell_type": "markdown",
   "metadata": {},
   "source": [
    "We can also project onto two dimensions and plot a surface:"
   ]
  },
  {
   "cell_type": "code",
   "execution_count": null,
   "metadata": {
    "collapsed": false
   },
   "outputs": [],
   "source": [
    "fig_3 = plot.plot_surface(spectrum, \"energy_mc\", \"radial_mc\",\n",
    "                          fig_num=3, show_plot=False)"
   ]
  },
  {
   "cell_type": "markdown",
   "metadata": {},
   "source": [
    "## Convolution and cuts"
   ]
  },
  {
   "cell_type": "markdown",
   "metadata": {},
   "source": [
    "The ability to smear the event, along a parameter axis, is built into\n",
    "echidna in the `smear` module. There are three classes in the module that\n",
    "allow us to create a smearer for different scenarios. There are two\n",
    "smearers for energy-based parameters, `EnergySmearRes` and\n",
    "`EnergySmearLY`, which allow smearing by energy resolution (e.g.\n",
    "$\\frac{5\\%}{\\sqrt{(E[MeV])}}$ and light yield (e.g. 200 NHit/Mev)\n",
    "respectively. Then additionally the `RadialSmear` class handles smearing\n",
    "along the axis of any radial based parameter."
   ]
  },
  {
   "cell_type": "markdown",
   "metadata": {},
   "source": [
    "We will go through an example of how to smear our spectrum by a fixed\n",
    "energy resolution of 5%. There are two main smearing algorithms: \"weighted\n",
    "smear\" and \"random smear\". The \"random smear\" algorithm takes each event\n",
    "in each bin and randomly assigns it a new energy from the Gaussian\n",
    "distribution for that bin - it is fast but not very accurate for low\n",
    "statistics. The \"weighted smear\" algorithm is slower but much more\n",
    "accurate, as re-weights each bin by taking into account all other nearby\n",
    "bins within a pre-defined range. We will use the \"weighted smear\" method\n",
    "in this example."
   ]
  },
  {
   "cell_type": "markdown",
   "metadata": {},
   "source": [
    "First to speed the smearing process, we will apply some loose cuts.\n",
    "Although, fewer bins means faster smearing, you should be wary of cutting\n",
    "the spectrum too tightly before smearing as you may end up cutting bins\n",
    "that would have influenced the smearing. Cuts can be applied using the\n",
    "`shrink` method. (Confusingly there is also a `cut` method which is almost\n",
    "identical to the `shrink` method, but updates the number of events the\n",
    "spectrum represents, after the cut is applied. Unless you are sure this is\n",
    "what you want to do, it is probably better to use the `shrink` method.) To\n",
    "shrink over multiple parameters, it is best to construct a dictionary of\n",
    "`_low` and `_high` values for each parameter and then pass this to the\n",
    "shrink method."
   ]
  },
  {
   "cell_type": "code",
   "execution_count": null,
   "metadata": {
    "collapsed": false
   },
   "outputs": [],
   "source": [
    "shrink_dict = {\"energy_mc_low\": mu - 5.*sigma,\n",
    "               \"energy_mc_high\": mu + 5.*sigma,\n",
    "               \"radial_mc_low\": 0.0,\n",
    "               \"radial_mc_high\": 3500}\n",
    "spectrum.shrink(**shrink_dict)"
   ]
  },
  {
   "cell_type": "markdown",
   "metadata": {},
   "source": [
    "Using the `sum` method, we can check to see how many events were cut."
   ]
  },
  {
   "cell_type": "code",
   "execution_count": null,
   "metadata": {
    "collapsed": false
   },
   "outputs": [],
   "source": [
    "print spectrum.sum()"
   ]
  },
  {
   "cell_type": "markdown",
   "metadata": {},
   "source": [
    "Import the smear class:"
   ]
  },
  {
   "cell_type": "code",
   "execution_count": null,
   "metadata": {
    "collapsed": true
   },
   "outputs": [],
   "source": [
    "import echidna.core.smear as smear"
   ]
  },
  {
   "cell_type": "markdown",
   "metadata": {},
   "source": [
    "and create the smearer object."
   ]
  },
  {
   "cell_type": "code",
   "execution_count": null,
   "metadata": {
    "collapsed": true
   },
   "outputs": [],
   "source": [
    "smearer = smear.EnergySmearRes()"
   ]
  },
  {
   "cell_type": "markdown",
   "metadata": {},
   "source": [
    "By default the \"weighted smear\" method considers all bins within a $\\pm\n",
    "5\\sigma$ range. For the sake of speed, we will reduce this to three here.\n",
    "Also set the energy resolution - 0.05 for 5%."
   ]
  },
  {
   "cell_type": "code",
   "execution_count": null,
   "metadata": {
    "collapsed": true
   },
   "outputs": [],
   "source": [
    "smearer.set_num_sigma(3)\n",
    "smearer.set_resolution(0.05)"
   ]
  },
  {
   "cell_type": "markdown",
   "metadata": {},
   "source": [
    "To smear our original spectrum and create the new `Spectra` object\n",
    "`smeared_spectrum`:"
   ]
  },
  {
   "cell_type": "code",
   "execution_count": null,
   "metadata": {
    "collapsed": false
   },
   "outputs": [],
   "source": [
    "smeared_spectrum = smearer.weighted_smear(spectrum)"
   ]
  },
  {
   "cell_type": "markdown",
   "metadata": {},
   "source": [
    "this should hopefully only take a couple of seconds."
   ]
  },
  {
   "cell_type": "markdown",
   "metadata": {},
   "source": [
    "The following code shows how to make a simple script, using matplotlib, to\n",
    "overlay the original and smeared spectra."
   ]
  },
  {
   "cell_type": "code",
   "execution_count": null,
   "metadata": {
    "collapsed": true
   },
   "outputs": [],
   "source": [
    "def overlay_spectra(original, smeared,\n",
    "                    dimension=\"energy_mc\", fig_num=1):\n",
    "    \"\"\" Overlay original and smeared spectra.\n",
    "\n",
    "    Args:\n",
    "      original (echidna.core.spectra.Spectra): Original spectrum.\n",
    "      smeared (echidna.core.spectra.Spectra): Smeared spectrum.\n",
    "      dimension (string, optional): Dimension to project onto.\n",
    "        Default is \"energy_mc\".\n",
    "      fignum (int, optional): Figure number, if producing multiple\n",
    "        figures. Default is 1.\n",
    "\n",
    "    Returns:\n",
    "      matplotlib.figure.Figure: Figure showing overlaid spectra.\n",
    "    \"\"\"\n",
    "    par = original.get_config().get_par(dimension)\n",
    "    # Define array of bin boundarie\n",
    "    bins = par.get_bin_boundaries()\n",
    "    # Define array of bin centres\n",
    "    x = par.get_bin_centres()\n",
    "    # Save bin width\n",
    "    width = par.get_width()\n",
    "\n",
    "    # Create figure and axes\n",
    "    fig, ax = plt.subplots(num=fig_num)\n",
    "\n",
    "    # Overlay two spectra using projection as weight\n",
    "    ax.hist(x, bins, weights=original.project(dimension),\n",
    "            histtype=\"stepfilled\", color=\"RoyalBlue\",\n",
    "            alpha=0.5, label=original._name)\n",
    "    ax.hist(x, bins, weights=smeared.project(dimension),\n",
    "            histtype=\"stepfilled\", color=\"Red\",\n",
    "            alpha=0.5, label=smeared._name)\n",
    "\n",
    "    # Add label/style\n",
    "    plt.legend(loc=\"upper right\")\n",
    "    plt.ylim(ymin=0.0)\n",
    "    plt.xlabel(dimension + \" [\" + par.get_unit() + \"]\")\n",
    "    plt.ylabel(\"Events per \" + str(width) +\n",
    "               \" \" + par.get_unit() + \" bin\")\n",
    "    return fig"
   ]
  },
  {
   "cell_type": "code",
   "execution_count": null,
   "metadata": {
    "collapsed": false
   },
   "outputs": [],
   "source": [
    "fig_4 = overlay_spectra(spectrum, smeared_spectrum, fig_num=4)"
   ]
  },
  {
   "cell_type": "markdown",
   "metadata": {},
   "source": [
    "## Other spectra manipulations"
   ]
  },
  {
   "cell_type": "markdown",
   "metadata": {},
   "source": [
    "We now have a nice smeared version of our original spectrum. To prepare\n",
    "the spectrum for a final analysis there are a few final manipulations we\n",
    "may wish to do."
   ]
  },
  {
   "cell_type": "markdown",
   "metadata": {},
   "source": [
    "### Region of Interest (ROI)"
   ]
  },
  {
   "cell_type": "markdown",
   "metadata": {},
   "source": [
    "There is a special version of the `shrink` method called `shrink_to_roi`\n",
    "that can be used for ROI cuts. It saves some useful information about the\n",
    "ROI in the `Spectra` class instance, including the efficiency i.e.\n",
    "integral of spectrum after cut divided by integral of spectrum before cut."
   ]
  },
  {
   "cell_type": "code",
   "execution_count": null,
   "metadata": {
    "collapsed": false
   },
   "outputs": [],
   "source": [
    "# To get nice shape for rebinning\n",
    "roi = (mu - 0.5*sigma, mu + 1.45*sigma)\n",
    "smeared_spectrum.shrink_to_roi(roi[0], roi[1], \"energy_mc\")\n",
    "print smeared_spectrum.get_roi(\"energy_mc\")"
   ]
  },
  {
   "cell_type": "markdown",
   "metadata": {},
   "source": [
    "### Rebin"
   ]
  },
  {
   "cell_type": "markdown",
   "metadata": {},
   "source": [
    "Our spectrum is still quite finely binned, perhaps we want to bin it in 50\n",
    "keV bins instead of 10 keV bins. The `rebin` method can be used to acheive\n",
    "this."
   ]
  },
  {
   "cell_type": "markdown",
   "metadata": {},
   "source": [
    "The `rebin` method requires us to specify the new shape (tuple) of the\n",
    "data. With just two dimensions this is trivial, but with more dimensions,\n",
    "it may be better to use a construct such as:"
   ]
  },
  {
   "cell_type": "code",
   "execution_count": null,
   "metadata": {
    "collapsed": false
   },
   "outputs": [],
   "source": [
    "dimension = smeared_spectrum.get_config().get_pars().index(\"energy_mc\")\n",
    "old_shape = smeared_spectrum._data.shape\n",
    "reduction_factor = 5  # how many bins to combine into a single bin\n",
    "new_shape = tuple([j / reduction_factor if i == dimension else j\n",
    "                   for i, j in enumerate(old_shape)])\n",
    "print old_shape\n",
    "print new_shape"
   ]
  },
  {
   "cell_type": "code",
   "execution_count": null,
   "metadata": {
    "collapsed": false
   },
   "outputs": [],
   "source": [
    "smeared_spectrum.rebin(new_shape)"
   ]
  },
  {
   "cell_type": "markdown",
   "metadata": {},
   "source": [
    "### Scaling"
   ]
  },
  {
   "cell_type": "markdown",
   "metadata": {},
   "source": [
    "Finally, we \"simulated\" 1000 events, but we most likely want to scale this\n",
    "down for to represent the number of events expected in our analysis. The\n",
    "`Spectra` class has a `scale` method to accomplish this. Remember that the\n",
    "`scale` method should always be supplied with the number of events the\n",
    "full spectrum (i.e. before any cuts using `shrink` or `shrink_to_roi`)\n",
    "should represent. Lets assume that our spectrum should actually represent\n",
    "104.25 events:"
   ]
  },
  {
   "cell_type": "code",
   "execution_count": null,
   "metadata": {
    "collapsed": false
   },
   "outputs": [],
   "source": [
    "smeared_spectrum.scale(104.25)\n",
    "print smeared_spectrum.sum()"
   ]
  },
  {
   "cell_type": "markdown",
   "metadata": {},
   "source": [
    "## Putting it all together"
   ]
  },
  {
   "cell_type": "markdown",
   "metadata": {},
   "source": [
    "After creating, filling, convolving and various other manipulations what\n",
    "does our final spectrum look like?"
   ]
  },
  {
   "cell_type": "code",
   "execution_count": null,
   "metadata": {
    "collapsed": false
   },
   "outputs": [],
   "source": [
    "print smeared_spectrum._data"
   ]
  },
  {
   "cell_type": "code",
   "execution_count": null,
   "metadata": {
    "collapsed": false,
    "scrolled": true
   },
   "outputs": [],
   "source": [
    "fig_5 = plot.plot_projection(smeared_spectrum, \"energy_mc\",\n",
    "                             fig_num=5, show_plot=False)\n",
    "plt.show()"
   ]
  }
 ],
 "metadata": {
  "kernelspec": {
   "display_name": "Python 2",
   "language": "python",
   "name": "python2"
  },
  "language_info": {
   "codemirror_mode": {
    "name": "ipython",
    "version": 2
   },
   "file_extension": ".py",
   "mimetype": "text/x-python",
   "name": "python",
   "nbconvert_exporter": "python",
   "pygments_lexer": "ipython2",
   "version": "2.7.6"
  }
 },
 "nbformat": 4,
 "nbformat_minor": 0
}
